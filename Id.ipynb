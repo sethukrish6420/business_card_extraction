{
  "cells": [
    {
      "cell_type": "code",
      "source": [
        "!pip install -q streamlit"
      ],
      "metadata": {
        "colab": {
          "base_uri": "https://localhost:8080/"
        },
        "id": "816fyDMCHyhr",
        "outputId": "7d8638cf-8c80-4ba8-b550-02dbc0c9fce0"
      },
      "execution_count": null,
      "outputs": [
        {
          "output_type": "stream",
          "name": "stdout",
          "text": [
            "\u001b[2K     \u001b[90m━━━━━━━━━━━━━━━━━━━━━━━━━━━━━━━━━━━━━━━━\u001b[0m \u001b[32m9.6/9.6 MB\u001b[0m \u001b[31m60.6 MB/s\u001b[0m eta \u001b[36m0:00:00\u001b[0m\n",
            "\u001b[2K     \u001b[90m━━━━━━━━━━━━━━━━━━━━━━━━━━━━━━━━━━━━━━━\u001b[0m \u001b[32m184.3/184.3 KB\u001b[0m \u001b[31m2.6 MB/s\u001b[0m eta \u001b[36m0:00:00\u001b[0m\n",
            "\u001b[2K     \u001b[90m━━━━━━━━━━━━━━━━━━━━━━━━━━━━━━━━━━━━━━━━\u001b[0m \u001b[32m4.7/4.7 MB\u001b[0m \u001b[31m45.7 MB/s\u001b[0m eta \u001b[36m0:00:00\u001b[0m\n",
            "\u001b[2K     \u001b[90m━━━━━━━━━━━━━━━━━━━━━━━━━━━━━━━━━━━━━━\u001b[0m \u001b[32m164.8/164.8 KB\u001b[0m \u001b[31m10.1 MB/s\u001b[0m eta \u001b[36m0:00:00\u001b[0m\n",
            "\u001b[2K     \u001b[90m━━━━━━━━━━━━━━━━━━━━━━━━━━━━━━━━━━━━━━━━\u001b[0m \u001b[32m82.1/82.1 KB\u001b[0m \u001b[31m4.0 MB/s\u001b[0m eta \u001b[36m0:00:00\u001b[0m\n",
            "\u001b[?25h  Preparing metadata (setup.py) ... \u001b[?25l\u001b[?25hdone\n",
            "\u001b[2K     \u001b[90m━━━━━━━━━━━━━━━━━━━━━━━━━━━━━━━━━━━━━━━━\u001b[0m \u001b[32m62.7/62.7 KB\u001b[0m \u001b[31m4.5 MB/s\u001b[0m eta \u001b[36m0:00:00\u001b[0m\n",
            "\u001b[?25h  Building wheel for validators (setup.py) ... \u001b[?25l\u001b[?25hdone\n"
          ]
        }
      ]
    },
    {
      "cell_type": "code",
      "source": [
        "!pip install easyocr"
      ],
      "metadata": {
        "colab": {
          "base_uri": "https://localhost:8080/"
        },
        "id": "hD1GDvbZHyrs",
        "outputId": "3891d6df-352a-4d70-b7cd-8a8e0803f8b8"
      },
      "execution_count": null,
      "outputs": [
        {
          "output_type": "stream",
          "name": "stdout",
          "text": [
            "Looking in indexes: https://pypi.org/simple, https://us-python.pkg.dev/colab-wheels/public/simple/\n",
            "Collecting easyocr\n",
            "  Downloading easyocr-1.6.2-py3-none-any.whl (2.9 MB)\n",
            "\u001b[2K     \u001b[90m━━━━━━━━━━━━━━━━━━━━━━━━━━━━━━━━━━━━━━━━\u001b[0m \u001b[32m2.9/2.9 MB\u001b[0m \u001b[31m71.2 MB/s\u001b[0m eta \u001b[36m0:00:00\u001b[0m\n",
            "\u001b[?25hRequirement already satisfied: scikit-image in /usr/local/lib/python3.9/dist-packages (from easyocr) (0.19.3)\n",
            "Requirement already satisfied: numpy in /usr/local/lib/python3.9/dist-packages (from easyocr) (1.22.4)\n",
            "Collecting python-bidi\n",
            "  Downloading python_bidi-0.4.2-py2.py3-none-any.whl (30 kB)\n",
            "Collecting ninja\n",
            "  Downloading ninja-1.11.1-py2.py3-none-manylinux_2_12_x86_64.manylinux2010_x86_64.whl (145 kB)\n",
            "\u001b[2K     \u001b[90m━━━━━━━━━━━━━━━━━━━━━━━━━━━━━━━━━━━━━━\u001b[0m \u001b[32m146.0/146.0 KB\u001b[0m \u001b[31m16.7 MB/s\u001b[0m eta \u001b[36m0:00:00\u001b[0m\n",
            "\u001b[?25hRequirement already satisfied: Shapely in /usr/local/lib/python3.9/dist-packages (from easyocr) (2.0.1)\n",
            "Requirement already satisfied: PyYAML in /usr/local/lib/python3.9/dist-packages (from easyocr) (6.0)\n",
            "Collecting opencv-python-headless<=4.5.4.60\n",
            "  Downloading opencv_python_headless-4.5.4.60-cp39-cp39-manylinux_2_17_x86_64.manylinux2014_x86_64.whl (47.6 MB)\n",
            "\u001b[2K     \u001b[90m━━━━━━━━━━━━━━━━━━━━━━━━━━━━━━━━━━━━━━━━\u001b[0m \u001b[32m47.6/47.6 MB\u001b[0m \u001b[31m13.7 MB/s\u001b[0m eta \u001b[36m0:00:00\u001b[0m\n",
            "\u001b[?25hRequirement already satisfied: scipy in /usr/local/lib/python3.9/dist-packages (from easyocr) (1.10.1)\n",
            "Requirement already satisfied: Pillow in /usr/local/lib/python3.9/dist-packages (from easyocr) (8.4.0)\n",
            "Requirement already satisfied: torch in /usr/local/lib/python3.9/dist-packages (from easyocr) (2.0.0+cu118)\n",
            "Requirement already satisfied: torchvision>=0.5 in /usr/local/lib/python3.9/dist-packages (from easyocr) (0.15.1+cu118)\n",
            "Collecting pyclipper\n",
            "  Downloading pyclipper-1.3.0.post4-cp39-cp39-manylinux_2_5_x86_64.manylinux1_x86_64.whl (608 kB)\n",
            "\u001b[2K     \u001b[90m━━━━━━━━━━━━━━━━━━━━━━━━━━━━━━━━━━━━━━\u001b[0m \u001b[32m608.2/608.2 KB\u001b[0m \u001b[31m47.0 MB/s\u001b[0m eta \u001b[36m0:00:00\u001b[0m\n",
            "\u001b[?25hRequirement already satisfied: requests in /usr/local/lib/python3.9/dist-packages (from torchvision>=0.5->easyocr) (2.27.1)\n",
            "Requirement already satisfied: typing-extensions in /usr/local/lib/python3.9/dist-packages (from torch->easyocr) (4.5.0)\n",
            "Requirement already satisfied: sympy in /usr/local/lib/python3.9/dist-packages (from torch->easyocr) (1.11.1)\n",
            "Requirement already satisfied: networkx in /usr/local/lib/python3.9/dist-packages (from torch->easyocr) (3.0)\n",
            "Requirement already satisfied: jinja2 in /usr/local/lib/python3.9/dist-packages (from torch->easyocr) (3.1.2)\n",
            "Requirement already satisfied: triton==2.0.0 in /usr/local/lib/python3.9/dist-packages (from torch->easyocr) (2.0.0)\n",
            "Requirement already satisfied: filelock in /usr/local/lib/python3.9/dist-packages (from torch->easyocr) (3.10.7)\n",
            "Requirement already satisfied: cmake in /usr/local/lib/python3.9/dist-packages (from triton==2.0.0->torch->easyocr) (3.25.2)\n",
            "Requirement already satisfied: lit in /usr/local/lib/python3.9/dist-packages (from triton==2.0.0->torch->easyocr) (16.0.0)\n",
            "Requirement already satisfied: six in /usr/local/lib/python3.9/dist-packages (from python-bidi->easyocr) (1.16.0)\n",
            "Requirement already satisfied: PyWavelets>=1.1.1 in /usr/local/lib/python3.9/dist-packages (from scikit-image->easyocr) (1.4.1)\n",
            "Requirement already satisfied: packaging>=20.0 in /usr/local/lib/python3.9/dist-packages (from scikit-image->easyocr) (23.0)\n",
            "Requirement already satisfied: imageio>=2.4.1 in /usr/local/lib/python3.9/dist-packages (from scikit-image->easyocr) (2.25.1)\n",
            "Requirement already satisfied: tifffile>=2019.7.26 in /usr/local/lib/python3.9/dist-packages (from scikit-image->easyocr) (2023.3.21)\n",
            "Requirement already satisfied: MarkupSafe>=2.0 in /usr/local/lib/python3.9/dist-packages (from jinja2->torch->easyocr) (2.1.2)\n",
            "Requirement already satisfied: charset-normalizer~=2.0.0 in /usr/local/lib/python3.9/dist-packages (from requests->torchvision>=0.5->easyocr) (2.0.12)\n",
            "Requirement already satisfied: idna<4,>=2.5 in /usr/local/lib/python3.9/dist-packages (from requests->torchvision>=0.5->easyocr) (3.4)\n",
            "Requirement already satisfied: certifi>=2017.4.17 in /usr/local/lib/python3.9/dist-packages (from requests->torchvision>=0.5->easyocr) (2022.12.7)\n",
            "Requirement already satisfied: urllib3<1.27,>=1.21.1 in /usr/local/lib/python3.9/dist-packages (from requests->torchvision>=0.5->easyocr) (1.26.15)\n",
            "Requirement already satisfied: mpmath>=0.19 in /usr/local/lib/python3.9/dist-packages (from sympy->torch->easyocr) (1.3.0)\n",
            "Installing collected packages: pyclipper, ninja, python-bidi, opencv-python-headless, easyocr\n",
            "  Attempting uninstall: opencv-python-headless\n",
            "    Found existing installation: opencv-python-headless 4.7.0.72\n",
            "    Uninstalling opencv-python-headless-4.7.0.72:\n",
            "      Successfully uninstalled opencv-python-headless-4.7.0.72\n",
            "Successfully installed easyocr-1.6.2 ninja-1.11.1 opencv-python-headless-4.5.4.60 pyclipper-1.3.0.post4 python-bidi-0.4.2\n"
          ]
        }
      ]
    },
    {
      "cell_type": "code",
      "source": [
        "!pip install db-sqlite3"
      ],
      "metadata": {
        "colab": {
          "base_uri": "https://localhost:8080/"
        },
        "id": "WYooHoleHyvY",
        "outputId": "dabbd607-12f3-4eae-93fb-0b28b883a5d8"
      },
      "execution_count": null,
      "outputs": [
        {
          "output_type": "stream",
          "name": "stdout",
          "text": [
            "Looking in indexes: https://pypi.org/simple, https://us-python.pkg.dev/colab-wheels/public/simple/\n",
            "Collecting db-sqlite3\n",
            "  Downloading db-sqlite3-0.0.1.tar.gz (1.4 kB)\n",
            "  Preparing metadata (setup.py) ... \u001b[?25l\u001b[?25hdone\n",
            "Collecting db\n",
            "  Downloading db-0.1.1.tar.gz (3.4 kB)\n",
            "  Preparing metadata (setup.py) ... \u001b[?25l\u001b[?25hdone\n",
            "Collecting antiorm\n",
            "  Downloading antiorm-1.2.1.tar.gz (171 kB)\n",
            "\u001b[2K     \u001b[90m━━━━━━━━━━━━━━━━━━━━━━━━━━━━━━━━━━━━━━\u001b[0m \u001b[32m172.0/172.0 KB\u001b[0m \u001b[31m11.0 MB/s\u001b[0m eta \u001b[36m0:00:00\u001b[0m\n",
            "\u001b[?25h  Preparing metadata (setup.py) ... \u001b[?25l\u001b[?25hdone\n",
            "Building wheels for collected packages: db-sqlite3, db, antiorm\n",
            "  Building wheel for db-sqlite3 (setup.py) ... \u001b[?25l\u001b[?25hdone\n",
            "  Created wheel for db-sqlite3: filename=db_sqlite3-0.0.1-py3-none-any.whl size=1794 sha256=fc48353ace0f07bc4d745e9fb771f32270d38f26bf6c22ae4fdf419cbabd1c12\n",
            "  Stored in directory: /root/.cache/pip/wheels/20/fb/1b/2ba46d337e706f0315053f19c8d6e83fc2431c41b7525caaa2\n",
            "  Building wheel for db (setup.py) ... \u001b[?25l\u001b[?25hdone\n",
            "  Created wheel for db: filename=db-0.1.1-py3-none-any.whl size=3891 sha256=1be21e2ee9a8bb6cb3db93dbea754abad5ca592e7d9740e109cf6e0203470a65\n",
            "  Stored in directory: /root/.cache/pip/wheels/85/9b/62/ebd5df18a3e9d5ead2b27c11d493f87aedc9d5e3bb0539010c\n",
            "  Building wheel for antiorm (setup.py) ... \u001b[?25l\u001b[?25hdone\n",
            "  Created wheel for antiorm: filename=antiorm-1.2.1-py3-none-any.whl size=31677 sha256=65c5e6c47b80758dd37745729199f2f80a727a848daeaea571fcb20981791df5\n",
            "  Stored in directory: /root/.cache/pip/wheels/56/3b/ce/83091ca1e408b04d35d8df207a364f524c34807cd0a5006ecb\n",
            "Successfully built db-sqlite3 db antiorm\n",
            "Installing collected packages: antiorm, db, db-sqlite3\n",
            "Successfully installed antiorm-1.2.1 db-0.1.1 db-sqlite3-0.0.1\n"
          ]
        }
      ]
    },
    {
      "cell_type": "code",
      "source": [],
      "metadata": {
        "id": "ZQCZlqLqHyyz"
      },
      "execution_count": null,
      "outputs": []
    },
    {
      "cell_type": "code",
      "execution_count": null,
      "metadata": {
        "colab": {
          "base_uri": "https://localhost:8080/"
        },
        "id": "rL8AuTkQu67Z",
        "outputId": "05969636-f411-443b-9175-8cbc4abdff4b"
      },
      "outputs": [
        {
          "output_type": "stream",
          "name": "stdout",
          "text": [
            "Overwriting app.py\n"
          ]
        }
      ],
      "source": [
        "%%writefile app.py\n",
        "import streamlit as st\n",
        "import easyocr\n",
        "import re\n",
        "import tempfile\n",
        "import sqlite3\n",
        "import pandas as pd\n",
        "from PIL import Image\n",
        "\n",
        "st.header('Project of Business Card Extraction')\n",
        "\n",
        "uploaded_file = st.file_uploader(\"Choose an image...\",  type=[\"png\", \"jpeg\", \"jpg\"])\n",
        "# If an image was uploaded, display it and its name\n",
        "if uploaded_file is not None:\n",
        "    image = Image.open(uploaded_file)  \n",
        "    # Display the image in Streamlit\n",
        "    st.image(image, caption=\"Uploaded image\", use_column_width=True)\n",
        "    with tempfile.NamedTemporaryFile(delete=False) as tmp_file:\n",
        "        tmp_file.write(uploaded_file.getvalue())\n",
        "        file_path = tmp_file.name\n",
        "    reader = easyocr.Reader(['en'])\n",
        "    result = reader.readtext(file_path, detail=0)\n",
        "    list = result\n",
        "    num = '(\\+||s)(\\d+\\-)'\n",
        "    mail = '\\w+@\\w+\\.com'\n",
        "    website = '\\w+(.com|com)'\n",
        "    add = '(\\d+\\w)'\n",
        "    pin = '(\\w+)\\s(\\d{6})'\n",
        "    f = []\n",
        "    for i in list:\n",
        "       if re.match(num,i) or re.findall(mail,i) or re.findall(website,i) or re.match(add,i) or re.match(pin,i) :\n",
        "          f.append(i)\n",
        "    number = []\n",
        "    web = []\n",
        "    mailid = []\n",
        "    address = []\n",
        "    state = []\n",
        "    for i in list:\n",
        "      if re.findall(num,i):\n",
        "         number.append(i)\n",
        "      elif re.findall(mail,i):\n",
        "         mailid.append(i)\n",
        "      elif re.findall(website,i):\n",
        "         web.append(i)\n",
        "      elif re.match(add,i):\n",
        "         address.append(i)\n",
        "      elif re.match(pin,i):\n",
        "         state.append(i)\n",
        "    if state == []:\n",
        "       address = ''.join(address)\n",
        "       parts = address.split(';')\n",
        "       address = parts[0]\n",
        "       state = parts[1]\n",
        "    number = ''.join(number)\n",
        "    web = ''.join(web)\n",
        "    mailid = ''.join(mailid)\n",
        "    address = ''.join(address)\n",
        "    state = ''.join(state)\n",
        "    f2 =[]\n",
        "    for i in list:\n",
        "      if i not in f:\n",
        "        f2.append(i)\n",
        "    name = f2[0]\n",
        "    role = f2[1]\n",
        "    if len(f2) == 4 :\n",
        "      company = f2[2] + ' ' + f2[3]\n",
        "    else:\n",
        "      company = f2[2]\n",
        "\n",
        "    data = (name,role,company,number,mailid,web,address,state)\n",
        "    if st.button('Extract Data'):\n",
        "       datas = {'Name': name,\n",
        "                'Role': role,\n",
        "                'Company': company,\n",
        "                'Number' : number,\n",
        "                'Mail_id' : mailid,\n",
        "                'Website' : web,\n",
        "                'Address' : address,\n",
        "                'State_and_Pincode' : state}\n",
        "       df = pd.DataFrame(datas, index=[0])\n",
        "       st.table(df)\n",
        "    \n",
        "    \n",
        "    table_name = st.text_input('Give a table name')\n",
        "    \n",
        "    \n",
        "    conn = sqlite3.connect('cards.db')\n",
        "    if  st.button('Store into Database'):\n",
        "          \n",
        "          \n",
        "          c = conn.cursor()\n",
        "          c.execute(f'''CREATE TABLE IF NOT EXISTS {table_name}\n",
        "             (name varchar(50), role varchar(50), company varchar(50), number varchar(50),\n",
        "              mailid varchar(50), web varchar(50), address varchar(50), state_and_pincode varchar(50))''')\n",
        "          c.execute(f\"INSERT INTO {table_name} VALUES (?, ?, ?, ?, ?, ?, ?, ?)\", data)\n",
        "          conn.commit()\n",
        "          st.write('Successfully Stored')\n",
        "       \n",
        "    if st.button('View Tables'):\n",
        "          c = conn.cursor()\n",
        "          c.execute(\"SELECT name FROM sqlite_master WHERE type='table'\")\n",
        "          table_names = [row[0] for row in c.fetchall()]\n",
        "          radio = st.sidebar.write('List of Tables:' ,table_names)\n",
        "          \n",
        "       \n",
        "    table_name = st.text_input('Inter Table Name')\n",
        "    \n",
        "    if st.button('View data'):\n",
        "         \n",
        "         df = pd.read_sql_query(f'SELECT * FROM {table_name}', conn)\n",
        "         st.dataframe(df)\n",
        "         "
      ]
    },
    {
      "cell_type": "code",
      "source": [
        "!npm install localtunnel"
      ],
      "metadata": {
        "colab": {
          "base_uri": "https://localhost:8080/"
        },
        "id": "JwowBALwHy2z",
        "outputId": "ecb7d777-1b93-4b2f-e9aa-500201e868dd"
      },
      "execution_count": null,
      "outputs": [
        {
          "output_type": "stream",
          "name": "stdout",
          "text": [
            "\u001b[K\u001b[?25h\u001b[37;40mnpm\u001b[0m \u001b[0m\u001b[30;43mWARN\u001b[0m \u001b[0m\u001b[35msaveError\u001b[0m ENOENT: no such file or directory, open '/content/package.json'\n",
            "\u001b[0m\u001b[37;40mnpm\u001b[0m \u001b[0m\u001b[30;43mWARN\u001b[0m \u001b[0m\u001b[35menoent\u001b[0m ENOENT: no such file or directory, open '/content/package.json'\n",
            "\u001b[0m\u001b[37;40mnpm\u001b[0m \u001b[0m\u001b[30;43mWARN\u001b[0m\u001b[35m\u001b[0m content No description\n",
            "\u001b[0m\u001b[37;40mnpm\u001b[0m \u001b[0m\u001b[30;43mWARN\u001b[0m\u001b[35m\u001b[0m content No repository field.\n",
            "\u001b[0m\u001b[37;40mnpm\u001b[0m \u001b[0m\u001b[30;43mWARN\u001b[0m\u001b[35m\u001b[0m content No README data\n",
            "\u001b[0m\u001b[37;40mnpm\u001b[0m \u001b[0m\u001b[30;43mWARN\u001b[0m\u001b[35m\u001b[0m content No license field.\n",
            "\u001b[0m\n",
            "+ localtunnel@2.0.2\n",
            "updated 1 package and audited 36 packages in 0.776s\n",
            "\n",
            "3 packages are looking for funding\n",
            "  run `npm fund` for details\n",
            "\n",
            "found \u001b[92m0\u001b[0m vulnerabilities\n",
            "\n",
            "\u001b[K\u001b[?25h"
          ]
        }
      ]
    },
    {
      "cell_type": "code",
      "source": [
        "!streamlit run /content/app.py &>/content/logs.txt &"
      ],
      "metadata": {
        "id": "u2gOVv5RHy-G"
      },
      "execution_count": null,
      "outputs": []
    },
    {
      "cell_type": "code",
      "source": [
        "!npx localtunnel --port 8501"
      ],
      "metadata": {
        "colab": {
          "base_uri": "https://localhost:8080/"
        },
        "id": "WCLG49Z9HzA3",
        "outputId": "d74c485b-b8a6-49f4-ffc7-8ec2ba2ceab7"
      },
      "execution_count": null,
      "outputs": [
        {
          "metadata": {
            "tags": null
          },
          "name": "stdout",
          "output_type": "stream",
          "text": [
            "\u001b[K\u001b[?25hnpx: installed 22 in 2.26s\n",
            "your url is: https://spotty-birds-guess-34-145-248-83.loca.lt\n"
          ]
        }
      ]
    },
    {
      "cell_type": "code",
      "source": [],
      "metadata": {
        "id": "1Mkp9pGlHzDt"
      },
      "execution_count": null,
      "outputs": []
    },
    {
      "cell_type": "code",
      "source": [],
      "metadata": {
        "id": "VmOpbwU_HzH7"
      },
      "execution_count": null,
      "outputs": []
    },
    {
      "cell_type": "code",
      "source": [],
      "metadata": {
        "id": "7Kj42zcbHzLZ"
      },
      "execution_count": null,
      "outputs": []
    },
    {
      "cell_type": "code",
      "source": [],
      "metadata": {
        "id": "nLzsJRPaHzN_"
      },
      "execution_count": null,
      "outputs": []
    }
  ],
  "metadata": {
    "colab": {
      "provenance": []
    },
    "kernelspec": {
      "display_name": "Python 3",
      "name": "python3"
    },
    "language_info": {
      "name": "python"
    }
  },
  "nbformat": 4,
  "nbformat_minor": 0
}